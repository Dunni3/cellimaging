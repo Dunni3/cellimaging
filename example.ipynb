{
 "cells": [
  {
   "cell_type": "code",
   "execution_count": 10,
   "metadata": {},
   "outputs": [],
   "source": [
    "import get_data\n",
    "import numpy as np\n",
    "import pandas as pd\n",
    "import cv2"
   ]
  },
  {
   "cell_type": "markdown",
   "metadata": {},
   "source": [
    "# getting a dataframe describing all images\n",
    "\n",
    "the `rel_fp` column is the filepath of the image relative to the root of this directory (assuming you unzipped the data from box and left it in the folder named `MFGTMP_220317120003`)"
   ]
  },
  {
   "cell_type": "code",
   "execution_count": 11,
   "metadata": {},
   "outputs": [
    {
     "data": {
      "text/html": [
       "<div>\n",
       "<style scoped>\n",
       "    .dataframe tbody tr th:only-of-type {\n",
       "        vertical-align: middle;\n",
       "    }\n",
       "\n",
       "    .dataframe tbody tr th {\n",
       "        vertical-align: top;\n",
       "    }\n",
       "\n",
       "    .dataframe thead th {\n",
       "        text-align: right;\n",
       "    }\n",
       "</style>\n",
       "<table border=\"1\" class=\"dataframe\">\n",
       "  <thead>\n",
       "    <tr style=\"text-align: right;\">\n",
       "      <th></th>\n",
       "      <th>column</th>\n",
       "      <th>row</th>\n",
       "      <th>field</th>\n",
       "      <th>channel</th>\n",
       "      <th>rel_fp</th>\n",
       "    </tr>\n",
       "  </thead>\n",
       "  <tbody>\n",
       "    <tr>\n",
       "      <th>0</th>\n",
       "      <td>B</td>\n",
       "      <td>3</td>\n",
       "      <td>2</td>\n",
       "      <td>4</td>\n",
       "      <td>MFGTMP_220317120003/MFGTMP_220317120003_B03f02...</td>\n",
       "    </tr>\n",
       "    <tr>\n",
       "      <th>1</th>\n",
       "      <td>H</td>\n",
       "      <td>3</td>\n",
       "      <td>1</td>\n",
       "      <td>2</td>\n",
       "      <td>MFGTMP_220317120003/MFGTMP_220317120003_H03f01...</td>\n",
       "    </tr>\n",
       "    <tr>\n",
       "      <th>2</th>\n",
       "      <td>B</td>\n",
       "      <td>2</td>\n",
       "      <td>2</td>\n",
       "      <td>4</td>\n",
       "      <td>MFGTMP_220317120003/MFGTMP_220317120003_B02f02...</td>\n",
       "    </tr>\n",
       "    <tr>\n",
       "      <th>3</th>\n",
       "      <td>F</td>\n",
       "      <td>1</td>\n",
       "      <td>2</td>\n",
       "      <td>2</td>\n",
       "      <td>MFGTMP_220317120003/MFGTMP_220317120003_F01f02...</td>\n",
       "    </tr>\n",
       "    <tr>\n",
       "      <th>4</th>\n",
       "      <td>A</td>\n",
       "      <td>1</td>\n",
       "      <td>7</td>\n",
       "      <td>1</td>\n",
       "      <td>MFGTMP_220317120003/MFGTMP_220317120003_A01f07...</td>\n",
       "    </tr>\n",
       "  </tbody>\n",
       "</table>\n",
       "</div>"
      ],
      "text/plain": [
       "  column  row  field  channel  \\\n",
       "0      B    3      2        4   \n",
       "1      H    3      1        2   \n",
       "2      B    2      2        4   \n",
       "3      F    1      2        2   \n",
       "4      A    1      7        1   \n",
       "\n",
       "                                              rel_fp  \n",
       "0  MFGTMP_220317120003/MFGTMP_220317120003_B03f02...  \n",
       "1  MFGTMP_220317120003/MFGTMP_220317120003_H03f01...  \n",
       "2  MFGTMP_220317120003/MFGTMP_220317120003_B02f02...  \n",
       "3  MFGTMP_220317120003/MFGTMP_220317120003_F01f02...  \n",
       "4  MFGTMP_220317120003/MFGTMP_220317120003_A01f07...  "
      ]
     },
     "execution_count": 11,
     "metadata": {},
     "output_type": "execute_result"
    }
   ],
   "source": [
    "df_images = get_data.load_images_df()\n",
    "df_images.head()"
   ]
  },
  {
   "cell_type": "markdown",
   "metadata": {},
   "source": [
    "# getting an image as a numpy array"
   ]
  },
  {
   "cell_type": "code",
   "execution_count": 12,
   "metadata": {},
   "outputs": [
    {
     "data": {
      "text/plain": [
       "(1104, 1104)"
      ]
     },
     "execution_count": 12,
     "metadata": {},
     "output_type": "execute_result"
    }
   ],
   "source": [
    "example_img_path = df_images['rel_fp'].values[0]\n",
    "img_arr = get_data.file_to_nparray(example_img_path)\n",
    "img_arr.shape"
   ]
  },
  {
   "cell_type": "markdown",
   "metadata": {},
   "source": [
    "# Create Column with Blur Coeficient"
   ]
  },
  {
   "cell_type": "code",
   "execution_count": 13,
   "metadata": {},
   "outputs": [
    {
     "name": "stdout",
     "output_type": "stream",
     "text": [
      "File Read Issue\n",
      "Setting Blur_Coef to -1\n",
      "indx 751\n",
      "file,  MFGTMP_220317120003/MFGTMP_220317120003_H03f08d4.TIF\n"
     ]
    },
    {
     "data": {
      "text/html": [
       "<div>\n",
       "<style scoped>\n",
       "    .dataframe tbody tr th:only-of-type {\n",
       "        vertical-align: middle;\n",
       "    }\n",
       "\n",
       "    .dataframe tbody tr th {\n",
       "        vertical-align: top;\n",
       "    }\n",
       "\n",
       "    .dataframe thead th {\n",
       "        text-align: right;\n",
       "    }\n",
       "</style>\n",
       "<table border=\"1\" class=\"dataframe\">\n",
       "  <thead>\n",
       "    <tr style=\"text-align: right;\">\n",
       "      <th></th>\n",
       "      <th>column</th>\n",
       "      <th>row</th>\n",
       "      <th>field</th>\n",
       "      <th>channel</th>\n",
       "      <th>rel_fp</th>\n",
       "      <th>Blur_Coef</th>\n",
       "    </tr>\n",
       "  </thead>\n",
       "  <tbody>\n",
       "    <tr>\n",
       "      <th>0</th>\n",
       "      <td>B</td>\n",
       "      <td>3</td>\n",
       "      <td>2</td>\n",
       "      <td>4</td>\n",
       "      <td>MFGTMP_220317120003/MFGTMP_220317120003_B03f02...</td>\n",
       "      <td>1.733168</td>\n",
       "    </tr>\n",
       "    <tr>\n",
       "      <th>1</th>\n",
       "      <td>H</td>\n",
       "      <td>3</td>\n",
       "      <td>1</td>\n",
       "      <td>2</td>\n",
       "      <td>MFGTMP_220317120003/MFGTMP_220317120003_H03f01...</td>\n",
       "      <td>1.773876</td>\n",
       "    </tr>\n",
       "    <tr>\n",
       "      <th>2</th>\n",
       "      <td>B</td>\n",
       "      <td>2</td>\n",
       "      <td>2</td>\n",
       "      <td>4</td>\n",
       "      <td>MFGTMP_220317120003/MFGTMP_220317120003_B02f02...</td>\n",
       "      <td>1.691270</td>\n",
       "    </tr>\n",
       "    <tr>\n",
       "      <th>3</th>\n",
       "      <td>F</td>\n",
       "      <td>1</td>\n",
       "      <td>2</td>\n",
       "      <td>2</td>\n",
       "      <td>MFGTMP_220317120003/MFGTMP_220317120003_F01f02...</td>\n",
       "      <td>1.322336</td>\n",
       "    </tr>\n",
       "    <tr>\n",
       "      <th>4</th>\n",
       "      <td>A</td>\n",
       "      <td>1</td>\n",
       "      <td>7</td>\n",
       "      <td>1</td>\n",
       "      <td>MFGTMP_220317120003/MFGTMP_220317120003_A01f07...</td>\n",
       "      <td>1.234159</td>\n",
       "    </tr>\n",
       "  </tbody>\n",
       "</table>\n",
       "</div>"
      ],
      "text/plain": [
       "  column  row  field  channel  \\\n",
       "0      B    3      2        4   \n",
       "1      H    3      1        2   \n",
       "2      B    2      2        4   \n",
       "3      F    1      2        2   \n",
       "4      A    1      7        1   \n",
       "\n",
       "                                              rel_fp  Blur_Coef  \n",
       "0  MFGTMP_220317120003/MFGTMP_220317120003_B03f02...   1.733168  \n",
       "1  MFGTMP_220317120003/MFGTMP_220317120003_H03f01...   1.773876  \n",
       "2  MFGTMP_220317120003/MFGTMP_220317120003_B02f02...   1.691270  \n",
       "3  MFGTMP_220317120003/MFGTMP_220317120003_F01f02...   1.322336  \n",
       "4  MFGTMP_220317120003/MFGTMP_220317120003_A01f07...   1.234159  "
      ]
     },
     "execution_count": 13,
     "metadata": {},
     "output_type": "execute_result"
    }
   ],
   "source": [
    "df_images[\"Blur_Coef\"] = 0\n",
    "for i in range(len(df_images.index)):\n",
    "    img = cv2.imread(df_images['rel_fp'].values[i])\n",
    "    try:\n",
    "        laplacian_var = cv2.Laplacian(img, cv2.CV_64F).var()\n",
    "        df_images.at[i,'Blur_Coef']=laplacian_var\n",
    "    except:\n",
    "        print(\"File Read Issue\")\n",
    "        print(\"Setting Blur_Coef to -1\")\n",
    "        df_images.at[i,'Blur_Coef']=laplacian_var\n",
    "        print(\"indx\", i )\n",
    "        print(\"file, \",df_images['rel_fp'].values[i])\n",
    "df_images.head()"
   ]
  },
  {
   "cell_type": "markdown",
   "metadata": {},
   "source": [
    "# Create Boolean Column \"Blurry\""
   ]
  },
  {
   "cell_type": "code",
   "execution_count": 14,
   "metadata": {},
   "outputs": [
    {
     "data": {
      "text/html": [
       "<div>\n",
       "<style scoped>\n",
       "    .dataframe tbody tr th:only-of-type {\n",
       "        vertical-align: middle;\n",
       "    }\n",
       "\n",
       "    .dataframe tbody tr th {\n",
       "        vertical-align: top;\n",
       "    }\n",
       "\n",
       "    .dataframe thead th {\n",
       "        text-align: right;\n",
       "    }\n",
       "</style>\n",
       "<table border=\"1\" class=\"dataframe\">\n",
       "  <thead>\n",
       "    <tr style=\"text-align: right;\">\n",
       "      <th></th>\n",
       "      <th>column</th>\n",
       "      <th>row</th>\n",
       "      <th>field</th>\n",
       "      <th>channel</th>\n",
       "      <th>rel_fp</th>\n",
       "      <th>Blur_Coef</th>\n",
       "      <th>Blurry</th>\n",
       "    </tr>\n",
       "  </thead>\n",
       "  <tbody>\n",
       "    <tr>\n",
       "      <th>0</th>\n",
       "      <td>B</td>\n",
       "      <td>3</td>\n",
       "      <td>2</td>\n",
       "      <td>4</td>\n",
       "      <td>MFGTMP_220317120003/MFGTMP_220317120003_B03f02...</td>\n",
       "      <td>1.733168</td>\n",
       "      <td>False</td>\n",
       "    </tr>\n",
       "    <tr>\n",
       "      <th>1</th>\n",
       "      <td>H</td>\n",
       "      <td>3</td>\n",
       "      <td>1</td>\n",
       "      <td>2</td>\n",
       "      <td>MFGTMP_220317120003/MFGTMP_220317120003_H03f01...</td>\n",
       "      <td>1.773876</td>\n",
       "      <td>False</td>\n",
       "    </tr>\n",
       "    <tr>\n",
       "      <th>2</th>\n",
       "      <td>B</td>\n",
       "      <td>2</td>\n",
       "      <td>2</td>\n",
       "      <td>4</td>\n",
       "      <td>MFGTMP_220317120003/MFGTMP_220317120003_B02f02...</td>\n",
       "      <td>1.691270</td>\n",
       "      <td>False</td>\n",
       "    </tr>\n",
       "    <tr>\n",
       "      <th>3</th>\n",
       "      <td>F</td>\n",
       "      <td>1</td>\n",
       "      <td>2</td>\n",
       "      <td>2</td>\n",
       "      <td>MFGTMP_220317120003/MFGTMP_220317120003_F01f02...</td>\n",
       "      <td>1.322336</td>\n",
       "      <td>False</td>\n",
       "    </tr>\n",
       "    <tr>\n",
       "      <th>4</th>\n",
       "      <td>A</td>\n",
       "      <td>1</td>\n",
       "      <td>7</td>\n",
       "      <td>1</td>\n",
       "      <td>MFGTMP_220317120003/MFGTMP_220317120003_A01f07...</td>\n",
       "      <td>1.234159</td>\n",
       "      <td>False</td>\n",
       "    </tr>\n",
       "  </tbody>\n",
       "</table>\n",
       "</div>"
      ],
      "text/plain": [
       "  column  row  field  channel  \\\n",
       "0      B    3      2        4   \n",
       "1      H    3      1        2   \n",
       "2      B    2      2        4   \n",
       "3      F    1      2        2   \n",
       "4      A    1      7        1   \n",
       "\n",
       "                                              rel_fp  Blur_Coef  Blurry  \n",
       "0  MFGTMP_220317120003/MFGTMP_220317120003_B03f02...   1.733168   False  \n",
       "1  MFGTMP_220317120003/MFGTMP_220317120003_H03f01...   1.773876   False  \n",
       "2  MFGTMP_220317120003/MFGTMP_220317120003_B02f02...   1.691270   False  \n",
       "3  MFGTMP_220317120003/MFGTMP_220317120003_F01f02...   1.322336   False  \n",
       "4  MFGTMP_220317120003/MFGTMP_220317120003_A01f07...   1.234159   False  "
      ]
     },
     "execution_count": 14,
     "metadata": {},
     "output_type": "execute_result"
    }
   ],
   "source": [
    "threshold = .5\n",
    "df_images['Blurry'] = df_images.apply(lambda row: row.Blur_Coef < threshold , axis = 1)\n",
    "df_images.head()"
   ]
  },
  {
   "cell_type": "markdown",
   "metadata": {},
   "source": [
    "# Filter out only the images that we need"
   ]
  },
  {
   "cell_type": "code",
   "execution_count": 36,
   "metadata": {},
   "outputs": [
    {
     "name": "stdout",
     "output_type": "stream",
     "text": [
      "(108,)\n",
      "(108,)\n",
      "(216,)\n"
     ]
    }
   ],
   "source": [
    "relevant_rows = df_images[df_images['column'].isin(['A', 'B', 'E', 'H'])]\n",
    "relevant_channels = relevant_rows[relevant_rows['channel'].isin([4])]\n",
    "no_blur = relevant_channels[relevant_channels['Blurry'].isin([False])]\n",
    "hoechst_paths = no_blur['rel_fp'].values\n",
    "print(hoechst_paths.shape)\n",
    "\n",
    "rox_paths = []\n",
    "for path in hoechst_paths:\n",
    "    # print(len(\"stretched/MFGTMP_220317120003_H03f04d4.TIF\"))\n",
    "    rox_path = path[0:47] + \"3\" + path[48:]\n",
    "    rox_paths.append(rox_path)\n",
    "rox_paths = np.array(rox_paths)\n",
    "print(rox_paths.shape)\n",
    "\n",
    "img_paths = np.concatenate([hoechst_paths, rox_paths])\n",
    "print(img_paths.shape)\n",
    "print(img_paths)"
   ]
  },
  {
   "cell_type": "markdown",
   "metadata": {},
   "source": [
    "# Contrast stretching an image"
   ]
  },
  {
   "cell_type": "code",
   "execution_count": 16,
   "metadata": {},
   "outputs": [],
   "source": [
    "from PIL import Image\n",
    "\n",
    "example_img_path = img_paths[0]\n",
    "img_arr = get_data.file_to_nparray(example_img_path)\n",
    "stretched_img = get_data.stretch_img(img_arr)\n",
    "im = Image.fromarray(stretched_img)\n",
    "im.save(\"ex1.TIF\")"
   ]
  },
  {
   "cell_type": "code",
   "execution_count": 17,
   "metadata": {},
   "outputs": [
    {
     "data": {
      "text/plain": [
       "<matplotlib.image.AxesImage at 0x7ff76e05e6a0>"
      ]
     },
     "execution_count": 17,
     "metadata": {},
     "output_type": "execute_result"
    },
    {
     "data": {
      "image/png": "[encoded data removed]",
      "text/plain": [
       "<Figure size 432x288 with 1 Axes>"
      ]
     },
     "metadata": {
      "needs_background": "light"
     },
     "output_type": "display_data"
    }
   ],
   "source": [
    "from matplotlib import pyplot as plt\n",
    "\n",
    "plt.imshow(stretched_img)"
   ]
  },
  {
   "cell_type": "markdown",
   "metadata": {},
   "source": [
    "# Contrast stretching all images for untreated / hydrogen peroxide (rows A, B, E, H)"
   ]
  },
  {
   "cell_type": "code",
   "execution_count": 23,
   "metadata": {},
   "outputs": [
    {
     "name": "stdout",
     "output_type": "stream",
     "text": [
      "(212,)\n",
      "stretched2/MFGTMP_220317120003_B03f02d4.TIF\n",
      "stretched2/MFGTMP_220317120003_B02f02d4.TIF\n",
      "stretched2/MFGTMP_220317120003_H01f08d4.TIF\n",
      "stretched2/MFGTMP_220317120003_A01f05d3.TIF\n",
      "stretched2/MFGTMP_220317120003_E02f03d3.TIF\n",
      "stretched2/MFGTMP_220317120003_E03f03d3.TIF\n",
      "stretched2/MFGTMP_220317120003_H02f07d4.TIF\n",
      "stretched2/MFGTMP_220317120003_H03f07d4.TIF\n",
      "stretched2/MFGTMP_220317120003_B03f04d3.TIF\n",
      "stretched2/MFGTMP_220317120003_B02f04d3.TIF\n",
      "stretched2/MFGTMP_220317120003_A01f03d4.TIF\n",
      "stretched2/MFGTMP_220317120003_E02f05d4.TIF\n",
      "stretched2/MFGTMP_220317120003_E03f05d4.TIF\n",
      "stretched2/MFGTMP_220317120003_H02f01d3.TIF\n",
      "stretched2/MFGTMP_220317120003_H03f01d3.TIF\n",
      "stretched2/MFGTMP_220317120003_E02f07d4.TIF\n",
      "stretched2/MFGTMP_220317120003_E03f07d4.TIF\n",
      "stretched2/MFGTMP_220317120003_H02f03d3.TIF\n",
      "stretched2/MFGTMP_220317120003_H03f03d3.TIF\n",
      "stretched2/MFGTMP_220317120003_B03f06d3.TIF\n",
      "stretched2/MFGTMP_220317120003_B02f06d3.TIF\n",
      "stretched2/MFGTMP_220317120003_A01f01d4.TIF\n",
      "stretched2/MFGTMP_220317120003_E01f08d4.TIF\n",
      "stretched2/MFGTMP_220317120003_A02f08d3.TIF\n",
      "stretched2/MFGTMP_220317120003_E02f01d3.TIF\n",
      "stretched2/MFGTMP_220317120003_A03f08d3.TIF\n",
      "stretched2/MFGTMP_220317120003_E03f01d3.TIF\n",
      "stretched2/MFGTMP_220317120003_H02f05d4.TIF\n",
      "stretched2/MFGTMP_220317120003_H03f05d4.TIF\n",
      "stretched2/MFGTMP_220317120003_B03f00d4.TIF\n",
      "stretched2/MFGTMP_220317120003_B02f00d4.TIF\n",
      "stretched2/MFGTMP_220317120003_A01f07d3.TIF\n",
      "stretched2/MFGTMP_220317120003_H02f01d4.TIF\n",
      "stretched2/MFGTMP_220317120003_H03f01d4.TIF\n",
      "stretched2/MFGTMP_220317120003_E02f05d3.TIF\n",
      "stretched2/MFGTMP_220317120003_E03f05d3.TIF\n",
      "stretched2/MFGTMP_220317120003_A01f03d3.TIF\n",
      "stretched2/MFGTMP_220317120003_B03f04d4.TIF\n",
      "stretched2/MFGTMP_220317120003_B02f04d4.TIF\n",
      "stretched2/MFGTMP_220317120003_H02f07d3.TIF\n",
      "stretched2/MFGTMP_220317120003_H03f07d3.TIF\n",
      "stretched2/MFGTMP_220317120003_E02f03d4.TIF\n",
      "stretched2/MFGTMP_220317120003_E03f03d4.TIF\n",
      "stretched2/MFGTMP_220317120003_A01f05d4.TIF\n",
      "stretched2/MFGTMP_220317120003_B03f02d3.TIF\n",
      "stretched2/MFGTMP_220317120003_B02f02d3.TIF\n",
      "stretched2/MFGTMP_220317120003_H01f08d3.TIF\n",
      "stretched2/MFGTMP_220317120003_A01f07d4.TIF\n",
      "stretched2/MFGTMP_220317120003_B03f00d3.TIF\n",
      "stretched2/MFGTMP_220317120003_B02f00d3.TIF\n",
      "stretched2/MFGTMP_220317120003_H02f05d3.TIF\n",
      "stretched2/MFGTMP_220317120003_H03f05d3.TIF\n",
      "stretched2/MFGTMP_220317120003_A02f08d4.TIF\n",
      "stretched2/MFGTMP_220317120003_E02f01d4.TIF\n",
      "stretched2/MFGTMP_220317120003_A03f08d4.TIF\n",
      "stretched2/MFGTMP_220317120003_E03f01d4.TIF\n",
      "stretched2/MFGTMP_220317120003_A01f01d3.TIF\n",
      "stretched2/MFGTMP_220317120003_E01f08d3.TIF\n"
     ]
    },
    {
     "ename": "KeyboardInterrupt",
     "evalue": "",
     "output_type": "error",
     "traceback": [
      "\u001b[0;31m---------------------------------------------------------------------------\u001b[0m",
      "\u001b[0;31mKeyboardInterrupt\u001b[0m                         Traceback (most recent call last)",
      "\u001b[0;32m<ipython-input-23-a812c2750700>\u001b[0m in \u001b[0;36m<module>\u001b[0;34m\u001b[0m\n\u001b[1;32m      7\u001b[0m \u001b[0;32mfor\u001b[0m \u001b[0mpath\u001b[0m \u001b[0;32min\u001b[0m \u001b[0mimg_paths\u001b[0m\u001b[0;34m:\u001b[0m\u001b[0;34m\u001b[0m\u001b[0;34m\u001b[0m\u001b[0m\n\u001b[1;32m      8\u001b[0m     \u001b[0mimg_arr\u001b[0m \u001b[0;34m=\u001b[0m \u001b[0mget_data\u001b[0m\u001b[0;34m.\u001b[0m\u001b[0mfile_to_nparray\u001b[0m\u001b[0;34m(\u001b[0m\u001b[0mpath\u001b[0m\u001b[0;34m)\u001b[0m\u001b[0;34m\u001b[0m\u001b[0;34m\u001b[0m\u001b[0m\n\u001b[0;32m----> 9\u001b[0;31m     \u001b[0mstretched_img\u001b[0m \u001b[0;34m=\u001b[0m \u001b[0mget_data\u001b[0m\u001b[0;34m.\u001b[0m\u001b[0mstretch_img\u001b[0m\u001b[0;34m(\u001b[0m\u001b[0mimg_arr\u001b[0m\u001b[0;34m)\u001b[0m\u001b[0;34m\u001b[0m\u001b[0;34m\u001b[0m\u001b[0m\n\u001b[0m\u001b[1;32m     10\u001b[0m     \u001b[0mim\u001b[0m \u001b[0;34m=\u001b[0m \u001b[0mImage\u001b[0m\u001b[0;34m.\u001b[0m\u001b[0mfromarray\u001b[0m\u001b[0;34m(\u001b[0m\u001b[0mstretched_img\u001b[0m\u001b[0;34m)\u001b[0m\u001b[0;34m\u001b[0m\u001b[0;34m\u001b[0m\u001b[0m\n\u001b[1;32m     11\u001b[0m     \u001b[0mnew_path\u001b[0m \u001b[0;34m=\u001b[0m \u001b[0;34m\"stretched2/\"\u001b[0m \u001b[0;34m+\u001b[0m \u001b[0mpath\u001b[0m\u001b[0;34m[\u001b[0m\u001b[0;36m20\u001b[0m\u001b[0;34m:\u001b[0m\u001b[0;34m]\u001b[0m\u001b[0;34m\u001b[0m\u001b[0;34m\u001b[0m\u001b[0m\n",
      "\u001b[0;32m~/Documents/AdityaCMU/2022Spring/Lab/cellimaging/get_data.py\u001b[0m in \u001b[0;36mstretch_img\u001b[0;34m(img_arr)\u001b[0m\n\u001b[1;32m     25\u001b[0m             \u001b[0mnew_pix\u001b[0m \u001b[0;34m=\u001b[0m \u001b[0;34m(\u001b[0m\u001b[0;34m(\u001b[0m\u001b[0mpix\u001b[0m \u001b[0;34m-\u001b[0m \u001b[0mmin_val\u001b[0m\u001b[0;34m)\u001b[0m \u001b[0;34m/\u001b[0m \u001b[0;34m(\u001b[0m\u001b[0mmax_val\u001b[0m \u001b[0;34m-\u001b[0m \u001b[0mmin_val\u001b[0m\u001b[0;34m)\u001b[0m\u001b[0;34m)\u001b[0m \u001b[0;34m*\u001b[0m \u001b[0;36m255\u001b[0m\u001b[0;34m\u001b[0m\u001b[0;34m\u001b[0m\u001b[0m\n\u001b[1;32m     26\u001b[0m \u001b[0;34m\u001b[0m\u001b[0m\n\u001b[0;32m---> 27\u001b[0;31m             \u001b[0;32mif\u001b[0m \u001b[0mnew_pix\u001b[0m \u001b[0;34m>=\u001b[0m \u001b[0;36m255\u001b[0m\u001b[0;34m:\u001b[0m\u001b[0;34m\u001b[0m\u001b[0;34m\u001b[0m\u001b[0m\n\u001b[0m\u001b[1;32m     28\u001b[0m                 \u001b[0mnew_pix\u001b[0m \u001b[0;34m=\u001b[0m \u001b[0;36m254\u001b[0m\u001b[0;34m\u001b[0m\u001b[0;34m\u001b[0m\u001b[0m\n\u001b[1;32m     29\u001b[0m             \u001b[0;32mif\u001b[0m \u001b[0mnew_pix\u001b[0m \u001b[0;34m<\u001b[0m \u001b[0;36m0\u001b[0m\u001b[0;34m:\u001b[0m\u001b[0;34m\u001b[0m\u001b[0;34m\u001b[0m\u001b[0m\n",
      "\u001b[0;31mKeyboardInterrupt\u001b[0m: "
     ]
    }
   ],
   "source": [
    "relevant_rows = df_images[df_images['column'].isin(['A', 'B', 'E', 'H'])]\n",
    "relevant_channels = relevant_rows[relevant_rows['channel'].isin([3])]\n",
    "no_blur = relevant_channels[relevant_channels['Blurry'].isin([False])]\n",
    "img_paths = no_blur['rel_fp'].values\n",
    "print(img_paths.shape)\n",
    "\n",
    "for path in img_paths:\n",
    "    img_arr = get_data.file_to_nparray(path)\n",
    "    stretched_img = get_data.stretch_img(img_arr)\n",
    "    im = Image.fromarray(stretched_img)\n",
    "    new_path = \"stretched2/\" + path[20:]\n",
    "    print(new_path)\n",
    "    im.save(new_path)"
   ]
  },
  {
   "cell_type": "code",
   "execution_count": null,
   "metadata": {},
   "outputs": [],
   "source": []
  }
 ],
 "metadata": {
  "interpreter": {
   "hash": "b0b475a109b70c3b13d9df5ebc43c04affeb4e8e0750acbe91acdb19dffad8ab"
  },
  "kernelspec": {
   "display_name": "Python 3.9.11 ('cellimage')",
   "language": "python",
   "name": "python3"
  },
  "language_info": {
   "codemirror_mode": {
    "name": "ipython",
    "version": 3
   },
   "file_extension": ".py",
   "mimetype": "text/x-python",
   "name": "python",
   "nbconvert_exporter": "python",
   "pygments_lexer": "ipython3",
   "version": "3.9.1"
  },
  "orig_nbformat": 4
 },
 "nbformat": 4,
 "nbformat_minor": 2
}
