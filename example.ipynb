{
 "cells": [
  {
   "cell_type": "code",
   "execution_count": 1,
   "metadata": {},
   "outputs": [],
   "source": [
    "import get_data\n",
    "import numpy as np\n",
    "import pandas as pd"
   ]
  },
  {
   "cell_type": "markdown",
   "metadata": {},
   "source": [
    "# getting a dataframe describing all images\n",
    "\n",
    "the `rel_fp` column is the filepath of the image relative to the root of this directory (assuming you unzipped the data from box and left it in the folder named `MFGTMP_220317120003`)"
   ]
  },
  {
   "cell_type": "code",
   "execution_count": 2,
   "metadata": {},
   "outputs": [
    {
     "data": {
      "text/html": [
       "<div>\n",
       "<style scoped>\n",
       "    .dataframe tbody tr th:only-of-type {\n",
       "        vertical-align: middle;\n",
       "    }\n",
       "\n",
       "    .dataframe tbody tr th {\n",
       "        vertical-align: top;\n",
       "    }\n",
       "\n",
       "    .dataframe thead th {\n",
       "        text-align: right;\n",
       "    }\n",
       "</style>\n",
       "<table border=\"1\" class=\"dataframe\">\n",
       "  <thead>\n",
       "    <tr style=\"text-align: right;\">\n",
       "      <th></th>\n",
       "      <th>column</th>\n",
       "      <th>row</th>\n",
       "      <th>field</th>\n",
       "      <th>channel</th>\n",
       "      <th>rel_fp</th>\n",
       "    </tr>\n",
       "  </thead>\n",
       "  <tbody>\n",
       "    <tr>\n",
       "      <th>0</th>\n",
       "      <td>B</td>\n",
       "      <td>3</td>\n",
       "      <td>2</td>\n",
       "      <td>4</td>\n",
       "      <td>MFGTMP_220317120003/MFGTMP_220317120003_B03f02...</td>\n",
       "    </tr>\n",
       "    <tr>\n",
       "      <th>1</th>\n",
       "      <td>H</td>\n",
       "      <td>3</td>\n",
       "      <td>1</td>\n",
       "      <td>2</td>\n",
       "      <td>MFGTMP_220317120003/MFGTMP_220317120003_H03f01...</td>\n",
       "    </tr>\n",
       "    <tr>\n",
       "      <th>2</th>\n",
       "      <td>B</td>\n",
       "      <td>2</td>\n",
       "      <td>2</td>\n",
       "      <td>4</td>\n",
       "      <td>MFGTMP_220317120003/MFGTMP_220317120003_B02f02...</td>\n",
       "    </tr>\n",
       "    <tr>\n",
       "      <th>3</th>\n",
       "      <td>F</td>\n",
       "      <td>1</td>\n",
       "      <td>2</td>\n",
       "      <td>2</td>\n",
       "      <td>MFGTMP_220317120003/MFGTMP_220317120003_F01f02...</td>\n",
       "    </tr>\n",
       "    <tr>\n",
       "      <th>4</th>\n",
       "      <td>A</td>\n",
       "      <td>1</td>\n",
       "      <td>7</td>\n",
       "      <td>1</td>\n",
       "      <td>MFGTMP_220317120003/MFGTMP_220317120003_A01f07...</td>\n",
       "    </tr>\n",
       "  </tbody>\n",
       "</table>\n",
       "</div>"
      ],
      "text/plain": [
       "  column  row  field  channel  \\\n",
       "0      B    3      2        4   \n",
       "1      H    3      1        2   \n",
       "2      B    2      2        4   \n",
       "3      F    1      2        2   \n",
       "4      A    1      7        1   \n",
       "\n",
       "                                              rel_fp  \n",
       "0  MFGTMP_220317120003/MFGTMP_220317120003_B03f02...  \n",
       "1  MFGTMP_220317120003/MFGTMP_220317120003_H03f01...  \n",
       "2  MFGTMP_220317120003/MFGTMP_220317120003_B02f02...  \n",
       "3  MFGTMP_220317120003/MFGTMP_220317120003_F01f02...  \n",
       "4  MFGTMP_220317120003/MFGTMP_220317120003_A01f07...  "
      ]
     },
     "execution_count": 2,
     "metadata": {},
     "output_type": "execute_result"
    }
   ],
   "source": [
    "df_images = get_data.load_images_df()\n",
    "df_images.head()"
   ]
  },
  {
   "cell_type": "markdown",
   "metadata": {},
   "source": [
    "# getting an image as a numpy array"
   ]
  },
  {
   "cell_type": "code",
   "execution_count": 3,
   "metadata": {},
   "outputs": [
    {
     "data": {
      "text/plain": [
       "(1104, 1104)"
      ]
     },
     "execution_count": 3,
     "metadata": {},
     "output_type": "execute_result"
    }
   ],
   "source": [
    "example_img_path = df_images['rel_fp'].values[0]\n",
    "img_arr = get_data.file_to_nparray(example_img_path)\n",
    "img_arr.shape"
   ]
  }
 ],
 "metadata": {
  "interpreter": {
   "hash": "b0b475a109b70c3b13d9df5ebc43c04affeb4e8e0750acbe91acdb19dffad8ab"
  },
  "kernelspec": {
   "display_name": "Python 3.9.11 ('cellimage')",
   "language": "python",
   "name": "python3"
  },
  "language_info": {
   "codemirror_mode": {
    "name": "ipython",
    "version": 3
   },
   "file_extension": ".py",
   "mimetype": "text/x-python",
   "name": "python",
   "nbconvert_exporter": "python",
   "pygments_lexer": "ipython3",
   "version": "3.9.11"
  },
  "orig_nbformat": 4
 },
 "nbformat": 4,
 "nbformat_minor": 2
}
